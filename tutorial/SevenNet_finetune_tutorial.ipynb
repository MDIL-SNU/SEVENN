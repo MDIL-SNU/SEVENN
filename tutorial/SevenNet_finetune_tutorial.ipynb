{
  "cells": [
    {
      "cell_type": "markdown",
      "metadata": {
        "id": "70dsECuXtOku"
      },
      "source": [
        "<a href=\"https://colab.research.google.com/github/MDIL-SNU/SevenNet/blob/tutorial/tutorial/SevenNet_python_tutorial.ipynb\" target=\"_parent\"><img src=\"https://colab.research.google.com/assets/colab-badge.svg\" alt=\"Open In Colab\"/></a>"
      ]
    },
    {
      "cell_type": "markdown",
      "metadata": {
        "id": "TMbCfqbmHVf0"
      },
      "source": [
        "# SevenNet tutorial: finetuning + python interactive\n",
        "\n",
        "---\n",
        "This notebook is a python interactive tutorial for finetuning SevenNet-0.\\\n",
        "It continues from `SevenNet_python_tutorial.ipynb`, but can be thought as an isolated tutorial also.\\\n",
        "[paper](https://pubs.acs.org/doi/10.1021/acs.jctc.4c00190)\\\n",
        "[code](https://github.com/MDIL-SNU/SevenNet) \\\n",
        "We recommend using a GPU. If you're using Colab, go to:\\\n",
        "[Runtime] -> [Change runtime type] -> [T4 GPU] -> [Save]\n",
        "\n",
        "If you're using Colab, it may crash occasionally. If it does, try starting from the beginning or from the cell where it crashed. If that doesn’t work, go to: \\\n",
        "[Runtime] -> [Disconnect and delete runtime] -> restart!"
      ]
    },
    {
      "cell_type": "markdown",
      "metadata": {
        "id": "f3dxO2smIM2_"
      },
      "source": [
        "## 0. Installation\n",
        "First of all, let's install SevenNet to our computer!"
      ]
    },
    {
      "cell_type": "code",
      "source": [
        "# Install SevenNet\n",
        "!pip install sevenn\n",
        "\n",
        "# If you want to check the SevenNet code, clone the repo.\n",
        "# !git clone https://github.com/MDIL-SNU/SevenNet.git\n",
        "\n",
        "import os\n",
        "working_dir = os.getcwd() # save current path"
      ],
      "metadata": {
        "colab": {
          "base_uri": "https://localhost:8080/"
        },
        "id": "gRaoa25DUwkg",
        "outputId": "90c32351-c897-4227-9d50-4f50de31cfdd"
      },
      "execution_count": null,
      "outputs": [
        {
          "output_type": "stream",
          "name": "stdout",
          "text": [
            "Requirement already satisfied: sevenn in /usr/local/lib/python3.10/dist-packages (0.10.1)\n",
            "Requirement already satisfied: ase in /usr/local/lib/python3.10/dist-packages (from sevenn) (3.23.0)\n",
            "Requirement already satisfied: braceexpand in /usr/local/lib/python3.10/dist-packages (from sevenn) (0.1.7)\n",
            "Requirement already satisfied: pyyaml in /usr/local/lib/python3.10/dist-packages (from sevenn) (6.0.2)\n",
            "Requirement already satisfied: e3nn in /usr/local/lib/python3.10/dist-packages (from sevenn) (0.5.4)\n",
            "Requirement already satisfied: tqdm in /usr/local/lib/python3.10/dist-packages (from sevenn) (4.66.6)\n",
            "Requirement already satisfied: scikit-learn in /usr/local/lib/python3.10/dist-packages (from sevenn) (1.5.2)\n",
            "Requirement already satisfied: torch-geometric>=2.5.0 in /usr/local/lib/python3.10/dist-packages (from sevenn) (2.6.1)\n",
            "Requirement already satisfied: numpy<2.0 in /usr/local/lib/python3.10/dist-packages (from sevenn) (1.26.4)\n",
            "Requirement already satisfied: aiohttp in /usr/local/lib/python3.10/dist-packages (from torch-geometric>=2.5.0->sevenn) (3.10.10)\n",
            "Requirement already satisfied: fsspec in /usr/local/lib/python3.10/dist-packages (from torch-geometric>=2.5.0->sevenn) (2024.10.0)\n",
            "Requirement already satisfied: jinja2 in /usr/local/lib/python3.10/dist-packages (from torch-geometric>=2.5.0->sevenn) (3.1.4)\n",
            "Requirement already satisfied: psutil>=5.8.0 in /usr/local/lib/python3.10/dist-packages (from torch-geometric>=2.5.0->sevenn) (5.9.5)\n",
            "Requirement already satisfied: pyparsing in /usr/local/lib/python3.10/dist-packages (from torch-geometric>=2.5.0->sevenn) (3.2.0)\n",
            "Requirement already satisfied: requests in /usr/local/lib/python3.10/dist-packages (from torch-geometric>=2.5.0->sevenn) (2.32.3)\n",
            "Requirement already satisfied: scipy>=1.6.0 in /usr/local/lib/python3.10/dist-packages (from ase->sevenn) (1.13.1)\n",
            "Requirement already satisfied: matplotlib>=3.3.4 in /usr/local/lib/python3.10/dist-packages (from ase->sevenn) (3.8.0)\n",
            "Requirement already satisfied: sympy in /usr/local/lib/python3.10/dist-packages (from e3nn->sevenn) (1.13.1)\n",
            "Requirement already satisfied: torch>=1.8.0 in /usr/local/lib/python3.10/dist-packages (from e3nn->sevenn) (2.5.0+cu121)\n",
            "Requirement already satisfied: opt-einsum-fx>=0.1.4 in /usr/local/lib/python3.10/dist-packages (from e3nn->sevenn) (0.1.4)\n",
            "Requirement already satisfied: joblib>=1.2.0 in /usr/local/lib/python3.10/dist-packages (from scikit-learn->sevenn) (1.4.2)\n",
            "Requirement already satisfied: threadpoolctl>=3.1.0 in /usr/local/lib/python3.10/dist-packages (from scikit-learn->sevenn) (3.5.0)\n",
            "Requirement already satisfied: contourpy>=1.0.1 in /usr/local/lib/python3.10/dist-packages (from matplotlib>=3.3.4->ase->sevenn) (1.3.0)\n",
            "Requirement already satisfied: cycler>=0.10 in /usr/local/lib/python3.10/dist-packages (from matplotlib>=3.3.4->ase->sevenn) (0.12.1)\n",
            "Requirement already satisfied: fonttools>=4.22.0 in /usr/local/lib/python3.10/dist-packages (from matplotlib>=3.3.4->ase->sevenn) (4.54.1)\n",
            "Requirement already satisfied: kiwisolver>=1.0.1 in /usr/local/lib/python3.10/dist-packages (from matplotlib>=3.3.4->ase->sevenn) (1.4.7)\n",
            "Requirement already satisfied: packaging>=20.0 in /usr/local/lib/python3.10/dist-packages (from matplotlib>=3.3.4->ase->sevenn) (24.1)\n",
            "Requirement already satisfied: pillow>=6.2.0 in /usr/local/lib/python3.10/dist-packages (from matplotlib>=3.3.4->ase->sevenn) (10.4.0)\n",
            "Requirement already satisfied: python-dateutil>=2.7 in /usr/local/lib/python3.10/dist-packages (from matplotlib>=3.3.4->ase->sevenn) (2.8.2)\n",
            "Requirement already satisfied: opt-einsum in /usr/local/lib/python3.10/dist-packages (from opt-einsum-fx>=0.1.4->e3nn->sevenn) (3.4.0)\n",
            "Requirement already satisfied: filelock in /usr/local/lib/python3.10/dist-packages (from torch>=1.8.0->e3nn->sevenn) (3.16.1)\n",
            "Requirement already satisfied: typing-extensions>=4.8.0 in /usr/local/lib/python3.10/dist-packages (from torch>=1.8.0->e3nn->sevenn) (4.12.2)\n",
            "Requirement already satisfied: networkx in /usr/local/lib/python3.10/dist-packages (from torch>=1.8.0->e3nn->sevenn) (3.4.2)\n",
            "Requirement already satisfied: mpmath<1.4,>=1.1.0 in /usr/local/lib/python3.10/dist-packages (from sympy->e3nn->sevenn) (1.3.0)\n",
            "Requirement already satisfied: aiohappyeyeballs>=2.3.0 in /usr/local/lib/python3.10/dist-packages (from aiohttp->torch-geometric>=2.5.0->sevenn) (2.4.3)\n",
            "Requirement already satisfied: aiosignal>=1.1.2 in /usr/local/lib/python3.10/dist-packages (from aiohttp->torch-geometric>=2.5.0->sevenn) (1.3.1)\n",
            "Requirement already satisfied: attrs>=17.3.0 in /usr/local/lib/python3.10/dist-packages (from aiohttp->torch-geometric>=2.5.0->sevenn) (24.2.0)\n",
            "Requirement already satisfied: frozenlist>=1.1.1 in /usr/local/lib/python3.10/dist-packages (from aiohttp->torch-geometric>=2.5.0->sevenn) (1.5.0)\n",
            "Requirement already satisfied: multidict<7.0,>=4.5 in /usr/local/lib/python3.10/dist-packages (from aiohttp->torch-geometric>=2.5.0->sevenn) (6.1.0)\n",
            "Requirement already satisfied: yarl<2.0,>=1.12.0 in /usr/local/lib/python3.10/dist-packages (from aiohttp->torch-geometric>=2.5.0->sevenn) (1.17.0)\n",
            "Requirement already satisfied: async-timeout<5.0,>=4.0 in /usr/local/lib/python3.10/dist-packages (from aiohttp->torch-geometric>=2.5.0->sevenn) (4.0.3)\n",
            "Requirement already satisfied: MarkupSafe>=2.0 in /usr/local/lib/python3.10/dist-packages (from jinja2->torch-geometric>=2.5.0->sevenn) (3.0.2)\n",
            "Requirement already satisfied: charset-normalizer<4,>=2 in /usr/local/lib/python3.10/dist-packages (from requests->torch-geometric>=2.5.0->sevenn) (3.4.0)\n",
            "Requirement already satisfied: idna<4,>=2.5 in /usr/local/lib/python3.10/dist-packages (from requests->torch-geometric>=2.5.0->sevenn) (3.10)\n",
            "Requirement already satisfied: urllib3<3,>=1.21.1 in /usr/local/lib/python3.10/dist-packages (from requests->torch-geometric>=2.5.0->sevenn) (2.2.3)\n",
            "Requirement already satisfied: certifi>=2017.4.17 in /usr/local/lib/python3.10/dist-packages (from requests->torch-geometric>=2.5.0->sevenn) (2024.8.30)\n",
            "Requirement already satisfied: six>=1.5 in /usr/local/lib/python3.10/dist-packages (from python-dateutil>=2.7->matplotlib>=3.3.4->ase->sevenn) (1.16.0)\n",
            "Requirement already satisfied: propcache>=0.2.0 in /usr/local/lib/python3.10/dist-packages (from yarl<2.0,>=1.12.0->aiohttp->torch-geometric>=2.5.0->sevenn) (0.2.0)\n"
          ]
        }
      ]
    },
    {
      "cell_type": "code",
      "execution_count": null,
      "metadata": {
        "colab": {
          "base_uri": "https://localhost:8080/",
          "height": 36
        },
        "id": "T8cO8LjyxDsE",
        "outputId": "dbb1d4d8-401e-4f5f-a8a3-197512ef135e"
      },
      "outputs": [
        {
          "output_type": "execute_result",
          "data": {
            "text/plain": [
              "'0.10.1'"
            ],
            "application/vnd.google.colaboratory.intrinsic+json": {
              "type": "string"
            }
          },
          "metadata": {},
          "execution_count": 2
        }
      ],
      "source": [
        "# check if sevenn is installed well\n",
        "import sevenn\n",
        "sevenn.__version__"
      ]
    },
    {
      "cell_type": "markdown",
      "metadata": {
        "id": "FfgJUwoS9hr3"
      },
      "source": [
        "## 1. Prepare dataset to fine-tune 7net-0"
      ]
    },
    {
      "cell_type": "code",
      "source": [
        "# download the dataset\n",
        "!rm -r sevennet_tutorial  # remove if exists already\n",
        "!git clone https://github.com/MDIL-SNU/sevennet_tutorial.git"
      ],
      "metadata": {
        "colab": {
          "base_uri": "https://localhost:8080/"
        },
        "id": "jw4hnsqLVyVw",
        "outputId": "1dd5a4ad-a814-4030-e9b3-256b8f85dbe0"
      },
      "execution_count": null,
      "outputs": [
        {
          "output_type": "stream",
          "name": "stdout",
          "text": [
            "fatal: destination path 'sevennet_tutorial' already exists and is not an empty directory.\n"
          ]
        }
      ]
    },
    {
      "cell_type": "code",
      "source": [
        "import sevenn.util as util\n",
        "from sevenn.nn.scale import SpeciesWiseRescale\n",
        "sevennet_0_cp_path = util.pretrained_name_to_path('7net-0')\n",
        "model, config = util.model_from_checkpoint(sevennet_0_cp_path)\n",
        "\n",
        "# To enhance training speed, we will overwrite shift scale module to trainable\n",
        "# By making energy shift trainable, error quickly converges.\n",
        "shift_scale_module = model._modules['rescale_atomic_energy']\n",
        "shift = shift_scale_module.shift.tolist()\n",
        "scale = shift_scale_module.scale.tolist()\n",
        "model._modules['rescale_atomic_energy'] = SpeciesWiseRescale(\n",
        "    shift=shift,\n",
        "    scale=scale,\n",
        "    train_shift_scale=True,\n",
        ")"
      ],
      "metadata": {
        "id": "O5g9PSOcdhJg",
        "colab": {
          "base_uri": "https://localhost:8080/",
          "height": 285
        },
        "outputId": "f25d7db1-1b2b-4d3a-9caf-c8920f68eaf0"
      },
      "execution_count": null,
      "outputs": [
        {
          "output_type": "error",
          "ename": "KeyboardInterrupt",
          "evalue": "",
          "traceback": [
            "\u001b[0;31m---------------------------------------------------------------------------\u001b[0m",
            "\u001b[0;31mKeyboardInterrupt\u001b[0m                         Traceback (most recent call last)",
            "\u001b[0;32m<ipython-input-4-66d91f6b40ed>\u001b[0m in \u001b[0;36m<cell line: 1>\u001b[0;34m()\u001b[0m\n\u001b[0;32m----> 1\u001b[0;31m \u001b[0;32mimport\u001b[0m \u001b[0msevenn\u001b[0m\u001b[0;34m.\u001b[0m\u001b[0mutil\u001b[0m \u001b[0;32mas\u001b[0m \u001b[0mutil\u001b[0m\u001b[0;34m\u001b[0m\u001b[0;34m\u001b[0m\u001b[0m\n\u001b[0m\u001b[1;32m      2\u001b[0m \u001b[0;32mfrom\u001b[0m \u001b[0msevenn\u001b[0m\u001b[0;34m.\u001b[0m\u001b[0mnn\u001b[0m\u001b[0;34m.\u001b[0m\u001b[0mscale\u001b[0m \u001b[0;32mimport\u001b[0m \u001b[0mSpeciesWiseRescale\u001b[0m\u001b[0;34m\u001b[0m\u001b[0;34m\u001b[0m\u001b[0m\n\u001b[1;32m      3\u001b[0m \u001b[0msevennet_0_cp_path\u001b[0m \u001b[0;34m=\u001b[0m \u001b[0mutil\u001b[0m\u001b[0;34m.\u001b[0m\u001b[0mpretrained_name_to_path\u001b[0m\u001b[0;34m(\u001b[0m\u001b[0;34m'7net-0'\u001b[0m\u001b[0;34m)\u001b[0m\u001b[0;34m\u001b[0m\u001b[0;34m\u001b[0m\u001b[0m\n\u001b[1;32m      4\u001b[0m \u001b[0mmodel\u001b[0m\u001b[0;34m,\u001b[0m \u001b[0mconfig\u001b[0m \u001b[0;34m=\u001b[0m \u001b[0mutil\u001b[0m\u001b[0;34m.\u001b[0m\u001b[0mmodel_from_checkpoint\u001b[0m\u001b[0;34m(\u001b[0m\u001b[0msevennet_0_cp_path\u001b[0m\u001b[0;34m)\u001b[0m\u001b[0;34m\u001b[0m\u001b[0;34m\u001b[0m\u001b[0m\n\u001b[1;32m      5\u001b[0m \u001b[0;34m\u001b[0m\u001b[0m\n",
            "\u001b[0;32m/usr/local/lib/python3.10/dist-packages/sevenn/util.py\u001b[0m in \u001b[0;36m<module>\u001b[0;34m\u001b[0m\n\u001b[1;32m      6\u001b[0m \u001b[0;32mimport\u001b[0m \u001b[0mtorch\u001b[0m\u001b[0;34m\u001b[0m\u001b[0;34m\u001b[0m\u001b[0m\n\u001b[1;32m      7\u001b[0m \u001b[0;32mimport\u001b[0m \u001b[0mtorch\u001b[0m\u001b[0;34m.\u001b[0m\u001b[0mnn\u001b[0m\u001b[0;34m\u001b[0m\u001b[0;34m\u001b[0m\u001b[0m\n\u001b[0;32m----> 8\u001b[0;31m \u001b[0;32mfrom\u001b[0m \u001b[0me3nn\u001b[0m\u001b[0;34m.\u001b[0m\u001b[0mo3\u001b[0m \u001b[0;32mimport\u001b[0m \u001b[0mFullTensorProduct\u001b[0m\u001b[0;34m,\u001b[0m \u001b[0mIrreps\u001b[0m\u001b[0;34m\u001b[0m\u001b[0;34m\u001b[0m\u001b[0m\n\u001b[0m\u001b[1;32m      9\u001b[0m \u001b[0;34m\u001b[0m\u001b[0m\n\u001b[1;32m     10\u001b[0m \u001b[0;32mimport\u001b[0m \u001b[0msevenn\u001b[0m\u001b[0;34m.\u001b[0m\u001b[0m_keys\u001b[0m \u001b[0;32mas\u001b[0m \u001b[0mKEY\u001b[0m\u001b[0;34m\u001b[0m\u001b[0;34m\u001b[0m\u001b[0m\n",
            "\u001b[0;32m/usr/local/lib/python3.10/dist-packages/e3nn/__init__.py\u001b[0m in \u001b[0;36m<module>\u001b[0;34m\u001b[0m\n\u001b[1;32m     33\u001b[0m \u001b[0;32mfrom\u001b[0m \u001b[0me3nn\u001b[0m \u001b[0;32mimport\u001b[0m \u001b[0mo3\u001b[0m \u001b[0;32mas\u001b[0m \u001b[0mo3\u001b[0m  \u001b[0;31m# noqa: F401, E402\u001b[0m\u001b[0;34m\u001b[0m\u001b[0;34m\u001b[0m\u001b[0m\n\u001b[1;32m     34\u001b[0m \u001b[0;32mfrom\u001b[0m \u001b[0me3nn\u001b[0m \u001b[0;32mimport\u001b[0m \u001b[0mnn\u001b[0m \u001b[0;32mas\u001b[0m \u001b[0mnn\u001b[0m  \u001b[0;31m# noqa: F401, E402\u001b[0m\u001b[0;34m\u001b[0m\u001b[0;34m\u001b[0m\u001b[0m\n\u001b[0;32m---> 35\u001b[0;31m \u001b[0;32mfrom\u001b[0m \u001b[0me3nn\u001b[0m \u001b[0;32mimport\u001b[0m \u001b[0mio\u001b[0m \u001b[0;32mas\u001b[0m \u001b[0mio\u001b[0m  \u001b[0;31m# noqa: F401, E402\u001b[0m\u001b[0;34m\u001b[0m\u001b[0;34m\u001b[0m\u001b[0m\n\u001b[0m",
            "\u001b[0;32m/usr/local/lib/python3.10/dist-packages/e3nn/io/__init__.py\u001b[0m in \u001b[0;36m<module>\u001b[0;34m\u001b[0m\n\u001b[1;32m      1\u001b[0m \u001b[0;32mfrom\u001b[0m \u001b[0;34m.\u001b[0m\u001b[0m_cartesian_tensor\u001b[0m \u001b[0;32mimport\u001b[0m \u001b[0mCartesianTensor\u001b[0m\u001b[0;34m\u001b[0m\u001b[0;34m\u001b[0m\u001b[0m\n\u001b[0;32m----> 2\u001b[0;31m \u001b[0;32mfrom\u001b[0m \u001b[0;34m.\u001b[0m\u001b[0m_spherical_tensor\u001b[0m \u001b[0;32mimport\u001b[0m \u001b[0mSphericalTensor\u001b[0m\u001b[0;34m\u001b[0m\u001b[0;34m\u001b[0m\u001b[0m\n\u001b[0m\u001b[1;32m      3\u001b[0m \u001b[0;34m\u001b[0m\u001b[0m\n\u001b[1;32m      4\u001b[0m \u001b[0;34m\u001b[0m\u001b[0m\n\u001b[1;32m      5\u001b[0m __all__ = [\n",
            "\u001b[0;32m/usr/local/lib/python3.10/dist-packages/e3nn/io/_spherical_tensor.py\u001b[0m in \u001b[0;36m<module>\u001b[0;34m\u001b[0m\n\u001b[1;32m      3\u001b[0m \u001b[0;32mfrom\u001b[0m \u001b[0mtyping\u001b[0m \u001b[0;32mimport\u001b[0m \u001b[0mTuple\u001b[0m\u001b[0;34m\u001b[0m\u001b[0;34m\u001b[0m\u001b[0m\n\u001b[1;32m      4\u001b[0m \u001b[0;34m\u001b[0m\u001b[0m\n\u001b[0;32m----> 5\u001b[0;31m \u001b[0;32mimport\u001b[0m \u001b[0mscipy\u001b[0m\u001b[0;34m.\u001b[0m\u001b[0msignal\u001b[0m\u001b[0;34m\u001b[0m\u001b[0;34m\u001b[0m\u001b[0m\n\u001b[0m\u001b[1;32m      6\u001b[0m \u001b[0;32mimport\u001b[0m \u001b[0mtorch\u001b[0m\u001b[0;34m\u001b[0m\u001b[0;34m\u001b[0m\u001b[0m\n\u001b[1;32m      7\u001b[0m \u001b[0;34m\u001b[0m\u001b[0m\n",
            "\u001b[0;32m/usr/local/lib/python3.10/dist-packages/scipy/__init__.py\u001b[0m in \u001b[0;36m<module>\u001b[0;34m\u001b[0m\n\u001b[1;32m     84\u001b[0m \u001b[0;31m# informative error message.\u001b[0m\u001b[0;34m\u001b[0m\u001b[0;34m\u001b[0m\u001b[0m\n\u001b[1;32m     85\u001b[0m \u001b[0;32mtry\u001b[0m\u001b[0;34m:\u001b[0m\u001b[0;34m\u001b[0m\u001b[0;34m\u001b[0m\u001b[0m\n\u001b[0;32m---> 86\u001b[0;31m     \u001b[0;32mfrom\u001b[0m \u001b[0mscipy\u001b[0m\u001b[0;34m.\u001b[0m\u001b[0m_lib\u001b[0m\u001b[0;34m.\u001b[0m\u001b[0m_ccallback\u001b[0m \u001b[0;32mimport\u001b[0m \u001b[0mLowLevelCallable\u001b[0m\u001b[0;34m\u001b[0m\u001b[0;34m\u001b[0m\u001b[0m\n\u001b[0m\u001b[1;32m     87\u001b[0m \u001b[0;32mexcept\u001b[0m \u001b[0mImportError\u001b[0m \u001b[0;32mas\u001b[0m \u001b[0me\u001b[0m\u001b[0;34m:\u001b[0m\u001b[0;34m\u001b[0m\u001b[0;34m\u001b[0m\u001b[0m\n\u001b[1;32m     88\u001b[0m     \u001b[0mmsg\u001b[0m \u001b[0;34m=\u001b[0m \u001b[0;34m\"The `scipy` install you are using seems to be broken, \"\u001b[0m \u001b[0;34m+\u001b[0m\u001b[0;31m \u001b[0m\u001b[0;31m\\\u001b[0m\u001b[0;34m\u001b[0m\u001b[0;34m\u001b[0m\u001b[0m\n",
            "\u001b[0;32m/usr/local/lib/python3.10/dist-packages/scipy/_lib/_ccallback.py\u001b[0m in \u001b[0;36m<module>\u001b[0;34m\u001b[0m\n\u001b[0;32m----> 1\u001b[0;31m \u001b[0;32mfrom\u001b[0m \u001b[0;34m.\u001b[0m \u001b[0;32mimport\u001b[0m \u001b[0m_ccallback_c\u001b[0m\u001b[0;34m\u001b[0m\u001b[0;34m\u001b[0m\u001b[0m\n\u001b[0m\u001b[1;32m      2\u001b[0m \u001b[0;34m\u001b[0m\u001b[0m\n\u001b[1;32m      3\u001b[0m \u001b[0;32mimport\u001b[0m \u001b[0mctypes\u001b[0m\u001b[0;34m\u001b[0m\u001b[0;34m\u001b[0m\u001b[0m\n\u001b[1;32m      4\u001b[0m \u001b[0;34m\u001b[0m\u001b[0m\n\u001b[1;32m      5\u001b[0m \u001b[0mPyCFuncPtr\u001b[0m \u001b[0;34m=\u001b[0m \u001b[0mctypes\u001b[0m\u001b[0;34m.\u001b[0m\u001b[0mCFUNCTYPE\u001b[0m\u001b[0;34m(\u001b[0m\u001b[0mctypes\u001b[0m\u001b[0;34m.\u001b[0m\u001b[0mc_void_p\u001b[0m\u001b[0;34m)\u001b[0m\u001b[0;34m.\u001b[0m\u001b[0m__bases__\u001b[0m\u001b[0;34m[\u001b[0m\u001b[0;36m0\u001b[0m\u001b[0;34m]\u001b[0m\u001b[0;34m\u001b[0m\u001b[0;34m\u001b[0m\u001b[0m\n",
            "\u001b[0;32m/usr/lib/python3.10/importlib/_bootstrap.py\u001b[0m in \u001b[0;36mparent\u001b[0;34m(self)\u001b[0m\n",
            "\u001b[0;31mKeyboardInterrupt\u001b[0m: "
          ]
        }
      ]
    },
    {
      "cell_type": "markdown",
      "metadata": {
        "id": "Fj3lpxFE9p3K"
      },
      "source": [
        "### Dataset setting"
      ]
    },
    {
      "cell_type": "code",
      "source": [
        "import os\n",
        "from sevenn.train.graph_dataset import SevenNetGraphDataset\n",
        "\n",
        "working_dir = os.getcwd() # save current path\n",
        "dataset_prefix = './sevennet_tutorial/data/train/'\n",
        "xyz_files = ['1200K.extxyz', '600K.extxyz']\n",
        "dataset_files = [os.path.join(dataset_prefix, xyz) for xyz in xyz_files]\n",
        "\n",
        "cutoff = config['cutoff']  # 7net-0 uses 5.0 Angstrom cutoff\n",
        "# Preprocess(build graphs) data before training. It will automatically saves processed graph to {root}/sevenn_data/train.pt, metadata + statistics as train.yaml\n",
        "# If you run below code on more time, it will load saved train.pt automatically instread of rebuilding graph.\n",
        "# If you have changed your data for some reason, put 'force_reload=True' to reload dataset. Or put processed_name other than\n",
        "dataset = SevenNetGraphDataset(cutoff=cutoff, root=working_dir, files=dataset_files, processed_name='train.pt')\n",
        "\n",
        "print(f'# graphs: {len(dataset)}')\n",
        "print(f'# atoms (nodes): {dataset.natoms}')\n",
        "print(dataset[0])"
      ],
      "metadata": {
        "id": "T4ZVothJoqHz"
      },
      "execution_count": null,
      "outputs": []
    },
    {
      "cell_type": "code",
      "execution_count": null,
      "metadata": {
        "id": "hT-aqERrbkRD"
      },
      "outputs": [],
      "source": [
        "from torch_geometric.loader import DataLoader\n",
        "\n",
        "# split the dataset into train & valid\n",
        "# We will use only 25% of original dataset (from_scratch used 95% of it). For fine-tuning.\n",
        "# Fine-tuning is significantly data efficient than from-scratch!\n",
        "num_dataset = len(dataset)\n",
        "num_train = int(num_dataset * 0.25)\n",
        "num_valid = 10\n",
        "\n",
        "dataset = dataset.shuffle()\n",
        "train_dataset = dataset[:num_train]\n",
        "valid_dataset = dataset[num_train:num_train + 10]\n",
        "\n",
        "print(f'# graphs for training: {len(train_dataset)}')\n",
        "print(f'# graphs for validation: {len(valid_dataset)}')\n",
        "\n",
        "train_loader = DataLoader(train_dataset, batch_size=4, shuffle=True)\n",
        "valid_loader = DataLoader(valid_dataset, batch_size=4)"
      ]
    },
    {
      "cell_type": "markdown",
      "metadata": {
        "id": "rh5tj1Xa9saG"
      },
      "source": [
        "### Model setting"
      ]
    },
    {
      "cell_type": "markdown",
      "metadata": {
        "id": "ifT5HeWZ-nen"
      },
      "source": [
        "### Start training\n",
        "If you want more accurate model, increase the num_epoch!"
      ]
    },
    {
      "cell_type": "code",
      "execution_count": null,
      "metadata": {
        "id": "WkOvy3XjIpcJ"
      },
      "outputs": [],
      "source": [
        "from sevenn.train.trainer import Trainer\n",
        "import torch.optim.lr_scheduler as scheduler\n",
        "\n",
        "config.update({\n",
        "    'optimizer': 'adam',\n",
        "    'optim_param': {'lr': 0.004},\n",
        "    'scheduler': 'linearlr',\n",
        "    'scheduler_param': {'start_factor': 1.0, 'total_iters': 10, 'end_factor': 0.0001},\n",
        "    'is_ddp': False,  # 7net-0 is traied with ddp=True. We override this key False as we won't use it\n",
        "})\n",
        "trainer = Trainer.from_config(model, config)\n",
        "\n",
        "# We have energy, force, stress loss function, which used to train 7net-0.\n",
        "# We will use it as it is, with loss weight: 1.0, 1.0, and 0.01 for energy, force, and stress, respectively.\n",
        "print(trainer.loss_functions)\n",
        "print(trainer.optimizer)\n",
        "print(trainer.scheduler)"
      ]
    },
    {
      "cell_type": "code",
      "source": [
        "from copy import deepcopy\n",
        "from sevenn.error_recorder import ErrorRecorder\n",
        "\n",
        "train_recorder = ErrorRecorder.from_config(config)\n",
        "valid_recorder = deepcopy(train_recorder)\n",
        "for metric in train_recorder.metrics:\n",
        "  print(metric)"
      ],
      "metadata": {
        "id": "9rnw9iWJgsKG"
      },
      "execution_count": null,
      "outputs": []
    },
    {
      "cell_type": "code",
      "source": [
        "from sevenn.sevenn_logger import Logger\n",
        "\n",
        "valid_best = float('inf')\n",
        "total_epoch = 10\n",
        "\n",
        "# As error recorder is long, let's use sevennet_logger for pretty print\n",
        "# It is similar to outputs when using sevennet with terminal.\n",
        "with Logger(filename='log.sevenn', screen=True) as logger:\n",
        "  logger.greeting()  # prints ascii logo\n",
        "  for epoch in range(total_epoch):\n",
        "    logger.timer_start('epoch')\n",
        "    # trainer scans whole data from given loader, and updates error recorder with outputs.\n",
        "    trainer.run_one_epoch(train_loader, is_train=True, error_recorder=train_recorder)\n",
        "    trainer.run_one_epoch(valid_loader, is_train=False, error_recorder=valid_recorder)\n",
        "    trainer.scheduler_step()\n",
        "    train_err = train_recorder.epoch_forward()  # return averaged error over one epoch, then reset.\n",
        "    valid_err = valid_recorder.epoch_forward()\n",
        "    logger.bar()\n",
        "    logger.writeline(f'Epoch {epoch}/{total_epoch}  Learning rate: {trainer.get_lr()}')\n",
        "    logger.write_full_table([train_err, valid_err], ['Train', 'Valid'])\n",
        "    logger.timer_end('epoch', message=f'Epoch {epoch} elapsed')\n",
        "\n",
        "trainer.write_checkpoint(os.path.join(working_dir, 'checkpoint_fine_tuned.pth'), config=config, epoch=total_epoch)"
      ],
      "metadata": {
        "id": "h46t-ibdk3-L"
      },
      "execution_count": null,
      "outputs": []
    },
    {
      "cell_type": "markdown",
      "metadata": {
        "id": "ALRki_ilVsT3"
      },
      "source": [
        "## 3. Model test\n",
        "### Energy / force plot\n",
        "Let's predict the energy and force of training/test dataset and draw the parity plots"
      ]
    },
    {
      "cell_type": "code",
      "execution_count": null,
      "metadata": {
        "id": "CzOHD9ym9z8u"
      },
      "outputs": [],
      "source": [
        "# load test model\n",
        "import os\n",
        "working_dir = './'\n",
        "\n",
        "import torch\n",
        "import ase.io\n",
        "\n",
        "from sevenn.sevennet_calculator import SevenNetCalculator\n",
        "\n",
        "# Let's test our model by predicting DFT MD trajectory\n",
        "# Instead of using other functions in SevenNet, we will use ASE calculator as an interface of our model\n",
        "DFT_md_xyz = './sevennet_tutorial/data/evaluation/test_md.extxyz'\n",
        "\n",
        "# initialize calculator from checkpoint.\n",
        "fine_tuned_calc = SevenNetCalculator(os.path.join(working_dir, 'checkpoint_fine_tuned.pth'))\n",
        "sevennet_0_calc = SevenNetCalculator('7net-0')  # As a baseline\n",
        "\n",
        "# load DFT md trajectory\n",
        "traj = ase.io.read(DFT_md_xyz, index=':')"
      ]
    },
    {
      "cell_type": "code",
      "source": [
        "import numpy as np\n",
        "from tqdm import tqdm\n",
        "\n",
        "dft_energy, dft_forces, dft_stress = [], [], []\n",
        "ft_energy, ft_forces, ft_stress = [], [], []\n",
        "base_energy, base_forces, base_stress = [], [], []\n",
        "to_kBar = 1602.1766208\n",
        "\n",
        "for atoms in tqdm(traj):\n",
        "  atoms.calc = fine_tuned_calc\n",
        "  ft_energy.append(atoms.get_potential_energy() / len(atoms))  # as per atom energy\n",
        "  ft_forces.append(atoms.get_forces())\n",
        "  ft_stress.extend(-1 * atoms.get_stress() * to_kBar)  # eV/Angstrom^3 to kBar unit\n",
        "\n",
        "  atoms.calc = sevennet_0_calc\n",
        "  base_energy.append(atoms.get_potential_energy() / len(atoms))  # as per atom energy\n",
        "  base_forces.append(atoms.get_forces())\n",
        "  base_stress.extend(-1 * atoms.get_stress() * to_kBar)\n",
        "\n",
        "  dft_energy.append(atoms.info['DFT_energy'] / len(atoms))\n",
        "  dft_forces.append(atoms.arrays['DFT_forces'])\n",
        "  dft_stress.append(-1 * atoms.info['DFT_stress'] * to_kBar)\n"
      ],
      "metadata": {
        "id": "3DVBcr_441lk"
      },
      "execution_count": null,
      "outputs": []
    },
    {
      "cell_type": "code",
      "source": [
        "# flatten forces and stress for parity plot\n",
        "ft_forces = np.concatenate([f.reshape(-1,) for f in ft_forces])\n",
        "ft_stress = np.concatenate([s.reshape(-1,) for s in ft_stress])\n",
        "\n",
        "base_forces = np.concatenate([f.reshape(-1,) for f in base_forces])\n",
        "base_stress = np.concatenate([s.reshape(-1,) for s in base_stress])\n",
        "\n",
        "dft_forces = np.concatenate([f.reshape(-1,) for f in dft_forces])\n",
        "dft_stress = np.concatenate([s.reshape(-1,) for s in dft_stress])"
      ],
      "metadata": {
        "id": "Q5ddwJPM6I4y"
      },
      "execution_count": null,
      "outputs": []
    },
    {
      "cell_type": "code",
      "execution_count": null,
      "metadata": {
        "id": "k4tl3pp2VpE4"
      },
      "outputs": [],
      "source": [
        "import matplotlib.pyplot as plt\n",
        "from scipy.stats import gaussian_kde\n",
        "\n",
        "# draw a parity plot of energy / force / stress\n",
        "unit = {\"energy\": \"eV/atom\", \"force\": r\"eV/$\\rm{\\AA}$\", \"stress\": \"kbar\"}\n",
        "def density_colored_scatter_plot(dft_energy, nnp_energy, dft_force, nnp_force, dft_stress, nnp_stress, title=None):\n",
        "    modes = ['energy', 'force', 'stress']\n",
        "    plt.figure(figsize=(18/2.54, 6/2.54))\n",
        "    for num, (x, y) in enumerate(zip([dft_energy, dft_force, dft_stress], [nnp_energy, nnp_force, nnp_stress])):\n",
        "        mode = modes[num]\n",
        "        idx = np.random.choice(len(x), 1000) if len(x) > 1000 else list(range(len(x)))\n",
        "        xsam = [x[i] for i in idx]\n",
        "        ysam = [y[i] for i in idx]\n",
        "        xy = np.vstack([x, y])\n",
        "        xysam = np.vstack([xsam, ysam])\n",
        "        zsam = gaussian_kde(xysam)\n",
        "\n",
        "        z = zsam.pdf(xy)\n",
        "        idx = z.argsort()\n",
        "\n",
        "        x = [x[i] for i in idx]\n",
        "        y = [y[i] for i in idx]\n",
        "        z = [z[i] for i in idx]\n",
        "\n",
        "        ax = plt.subplot(int(f'13{num+1}'))\n",
        "        plt.scatter(x, y, c=z, s=4, cmap='plasma')\n",
        "\n",
        "        mini = min(min(x), min(y))\n",
        "        maxi = max(max(x), max(y))\n",
        "        ran = (maxi-mini) / 20\n",
        "        plt.plot([mini-ran, maxi+ran], [mini-ran, maxi+ran], color='grey', linestyle='dashed')\n",
        "        plt.xlim(mini-ran, maxi+ran)\n",
        "        plt.ylim(mini-ran, maxi+ran)\n",
        "\n",
        "        plt.xlabel(f'DFT {mode} ({unit[mode]})')\n",
        "        plt.ylabel(f'MLP {mode} ({unit[mode]})')\n",
        "        ax.set_aspect('equal')\n",
        "        if title:\n",
        "          ax.set_title(f'{title} {mode}')\n",
        "    plt.tight_layout()\n",
        "    plt.show()\n",
        "\n",
        "density_colored_scatter_plot(dft_energy, base_energy, dft_forces, base_forces, dft_stress, base_stress, '7net-0')\n",
        "density_colored_scatter_plot(dft_energy, ft_energy, dft_forces, ft_forces, dft_stress, ft_stress, 'fine-tuned')"
      ]
    }
  ],
  "metadata": {
    "accelerator": "GPU",
    "colab": {
      "gpuType": "T4",
      "provenance": []
    },
    "kernelspec": {
      "display_name": "seven",
      "language": "python",
      "name": "python3"
    },
    "language_info": {
      "codemirror_mode": {
        "name": "ipython",
        "version": 3
      },
      "file_extension": ".py",
      "mimetype": "text/x-python",
      "name": "python",
      "nbconvert_exporter": "python",
      "pygments_lexer": "ipython3",
      "version": "3.9.19"
    }
  },
  "nbformat": 4,
  "nbformat_minor": 0
}